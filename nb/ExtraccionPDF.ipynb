{
 "cells": [
  {
   "cell_type": "markdown",
   "metadata": {},
   "source": [
    "# Minera Cobre Colombia\n",
    "\n",
    "\n",
    "\n",
    "Esta actividad tiene como objetivo extraer datos de geoquímica para el proyecto Murindó.\n",
    "\n",
    "Actividad Realizada por: David Alonso Rueda Rodríguez"
   ]
  },
  {
   "cell_type": "markdown",
   "metadata": {},
   "source": [
    "### Metodología de trabajo\n",
    "0. Revisar de requerimientos\n",
    "\n",
    "Se ha confirmado con el requisitor las necesidades de datos, adicionalmente, se ha solicitado al usuario la siguientes información:\n",
    "\n",
    "0.1 URL del archivo fuente\n",
    "0.2 Nombre del proyecto de trabajo\n",
    "0.3 Ruta para alojar los resultados del trabajo\n",
    "\n",
    "Una vez identificados los datos, se realizaron pruebas sobre un archivo en formato pdf como imagen y otro en formato docx transformado desde los archivos fuente descargados desde el MIIG. El resultado de la actividad mostró que al utilizar archivos procesados por OCR, se encontraban errores de reconocimiento (porcentaje no cuantificado). Al utilizar los archivos docx procesados desde los datos disponibles en la URL suministrada se obtienen archivos sin errores.\n",
    "\n",
    "Las librerías utilizadas para las evaluaciones son las siguientes:\n",
    "\n",
    "- Docx\n",
    "\n",
    "### Actividades a realizar\n",
    "\n",
    "1. Convertir archivo fuente (pdf) a archivo de trabajo (docx)\n",
    "2. Revisión de archivo de salida\n",
    "3. Preparación de programa\n",
    "4. Ejecución de programa y extracción de datos de interés\n",
    "5. Etapa control de calidad de datos."
   ]
  },
  {
   "cell_type": "markdown",
   "metadata": {},
   "source": [
    "### Descripción de las Actividades\n",
    "\n",
    "#### 1. Convertir archivo fuente (pdf) a archivo de trabajo (docx)\n",
    "\n",
    "El archivo fuente fue entregadado por Juan Pablo Arias para extraer los datos de la descripción de las secciones delgadas del proyecto Mandé Norte. Se utilizó el programa Adobe Acrobat para transformar el archivo fuente (un documento pdf tipo vector) a un archivos docx.\n",
    "\n",
    "#### 2. Revisión de archivo de salida\n",
    "\n",
    "Esta etapa consistió en revisar qué tipo de elementos fueron transformados, en este caso se identificó que todas las secciones delgadas son presentadas como tablas que contienen el mismo formato.\n",
    "\n",
    "Conocer el tipo de contenido es importante para determinar las actividades del procesamiento de datos a aplicar, específicamente determinar que estos datos son tabulares permite centrarse en una sección específica de la librería a utilizarse.\n",
    "\n",
    "#### 3. Preparación de programa\n",
    "\n",
    "Utilizando la librería python Docx se crea el programa para leer las tablas contenidas en el archivo.\n",
    "\n",
    "#### 4. Ejecución de programa y extracción de datos de interés.\n",
    "\n",
    "#### 5. Etapa control de calidad de datos.\n",
    "\n",
    "El 30% de los datos será verificado manualmente (13 documentos aleatorios deben ser verificados), esta actividad debe ser realizada por una persona diferente a quien realizó el paquete de datos."
   ]
  },
  {
   "cell_type": "markdown",
   "metadata": {},
   "source": [
    "## Preparación del programa"
   ]
  },
  {
   "cell_type": "markdown",
   "metadata": {},
   "source": [
    "### Importar librerías para trabajo"
   ]
  },
  {
   "cell_type": "code",
   "execution_count": 49,
   "metadata": {},
   "outputs": [],
   "source": [
    "# Carga de librerías\n",
    "import os # Librería para manejo de archivos y directorios del sistema\n",
    "import docx # Librería para creación y manpulación de archivos docx\n",
    "import pandas as pd"
   ]
  },
  {
   "cell_type": "code",
   "execution_count": 50,
   "metadata": {},
   "outputs": [
    {
     "data": {
      "text/html": [
       "<div>\n",
       "<style scoped>\n",
       "    .dataframe tbody tr th:only-of-type {\n",
       "        vertical-align: middle;\n",
       "    }\n",
       "\n",
       "    .dataframe tbody tr th {\n",
       "        vertical-align: top;\n",
       "    }\n",
       "\n",
       "    .dataframe thead th {\n",
       "        text-align: right;\n",
       "    }\n",
       "</style>\n",
       "<table border=\"1\" class=\"dataframe\">\n",
       "  <thead>\n",
       "    <tr style=\"text-align: right;\">\n",
       "      <th></th>\n",
       "      <th>Archivos en la ruta</th>\n",
       "    </tr>\n",
       "  </thead>\n",
       "  <tbody>\n",
       "    <tr>\n",
       "      <th>0</th>\n",
       "      <td>Anexo_Textual_V._Secciones_Delgadas.docx</td>\n",
       "    </tr>\n",
       "    <tr>\n",
       "      <th>1</th>\n",
       "      <td>Anexo_Textual_V._Secciones_Delgadas.pdf</td>\n",
       "    </tr>\n",
       "    <tr>\n",
       "      <th>2</th>\n",
       "      <td>Reporte de muestro geoquimico.docx</td>\n",
       "    </tr>\n",
       "    <tr>\n",
       "      <th>3</th>\n",
       "      <td>Reporte de muestro geoquimico.pdf</td>\n",
       "    </tr>\n",
       "  </tbody>\n",
       "</table>\n",
       "</div>"
      ],
      "text/plain": [
       "                        Archivos en la ruta\n",
       "0  Anexo_Textual_V._Secciones_Delgadas.docx\n",
       "1   Anexo_Textual_V._Secciones_Delgadas.pdf\n",
       "2        Reporte de muestro geoquimico.docx\n",
       "3         Reporte de muestro geoquimico.pdf"
      ]
     },
     "execution_count": 50,
     "metadata": {},
     "output_type": "execute_result"
    }
   ],
   "source": [
    "# Listado de archivos en el directorio de referencia\n",
    "src = '../src/'\n",
    "listado_Archivos = os.listdir(src)\n",
    "pd.DataFrame(listado_Archivos, columns=['Archivos en la ruta'])"
   ]
  },
  {
   "cell_type": "code",
   "execution_count": 11,
   "metadata": {},
   "outputs": [
    {
     "data": {
      "text/plain": [
       "'Reporte de muestro geoquimico.docx'"
      ]
     },
     "execution_count": 11,
     "metadata": {},
     "output_type": "execute_result"
    }
   ],
   "source": [
    "listado_Archivos[2]"
   ]
  },
  {
   "cell_type": "code",
   "execution_count": 51,
   "metadata": {},
   "outputs": [],
   "source": [
    "# Carga del archivos a variables\n",
    "doc = docx.Document(src + listado_Archivos[0])"
   ]
  },
  {
   "cell_type": "markdown",
   "metadata": {},
   "source": [
    "### Comprobación del documento cargado"
   ]
  },
  {
   "cell_type": "code",
   "execution_count": 58,
   "metadata": {},
   "outputs": [
    {
     "name": "stdout",
     "output_type": "stream",
     "text": [
      "Nombre del arhivo procesado: Secciones delgadas.PDF\n",
      "Autor del arhivo: Guille\n"
     ]
    }
   ],
   "source": [
    "# Revisión de atributos del documento cargado\n",
    "print('Nombre del arhivo procesado: {}' .format(doc.core_properties.title))\n",
    "print('Autor del arhivo: {}' .format(doc.core_properties.author))"
   ]
  },
  {
   "cell_type": "code",
   "execution_count": null,
   "metadata": {},
   "outputs": [],
   "source": [
    "def imprimir_tabla(col, fil, tabla):\n",
    "    for i in range(fil):\n",
    "        for j in range(col):"
   ]
  },
  {
   "cell_type": "code",
   "execution_count": 140,
   "metadata": {},
   "outputs": [
    {
     "data": {
      "text/plain": [
       "41"
      ]
     },
     "execution_count": 140,
     "metadata": {},
     "output_type": "execute_result"
    }
   ],
   "source": [
    "len(doc.tables)"
   ]
  },
  {
   "cell_type": "code",
   "execution_count": 109,
   "metadata": {},
   "outputs": [
    {
     "name": "stdout",
     "output_type": "stream",
     "text": [
      "Tabla1: Fila 18, Columna 13\n",
      "Tabla1: Fila 18, Columna 13\n",
      "Tabla1: Fila 18, Columna 13\n",
      "Tabla1: Fila 18, Columna 13\n",
      "Tabla1: Fila 18, Columna 13\n",
      "Tabla1: Fila 18, Columna 13\n",
      "Tabla1: Fila 18, Columna 13\n",
      "Tabla1: Fila 18, Columna 13\n",
      "Tabla1: Fila 18, Columna 13\n",
      "Tabla1: Fila 18, Columna 13\n",
      "Tabla1: Fila 18, Columna 13\n",
      "Tabla1: Fila 18, Columna 13\n",
      "Tabla1: Fila 18, Columna 13\n",
      "Tabla1: Fila 18, Columna 13\n",
      "Tabla1: Fila 18, Columna 13\n",
      "Tabla1: Fila 18, Columna 13\n",
      "Tabla1: Fila 18, Columna 13\n",
      "Tabla1: Fila 18, Columna 13\n",
      "Tabla1: Fila 18, Columna 13\n",
      "Tabla1: Fila 18, Columna 13\n",
      "Tabla1: Fila 18, Columna 13\n",
      "Tabla1: Fila 18, Columna 13\n",
      "Tabla1: Fila 18, Columna 13\n",
      "Tabla1: Fila 18, Columna 13\n",
      "Tabla1: Fila 18, Columna 13\n",
      "Tabla1: Fila 18, Columna 13\n",
      "Tabla1: Fila 18, Columna 13\n",
      "Tabla1: Fila 18, Columna 13\n",
      "Tabla1: Fila 18, Columna 13\n",
      "Tabla1: Fila 18, Columna 13\n",
      "Tabla1: Fila 18, Columna 13\n",
      "Tabla1: Fila 18, Columna 13\n",
      "Tabla1: Fila 18, Columna 13\n",
      "Tabla1: Fila 18, Columna 13\n",
      "Tabla1: Fila 18, Columna 13\n",
      "Tabla1: Fila 18, Columna 13\n",
      "Tabla1: Fila 18, Columna 13\n",
      "Tabla1: Fila 18, Columna 13\n",
      "Tabla2: Fila 18, Columna 9\n",
      "Tabla2: Fila 18, Columna 8\n",
      "Tabla2: Fila 18, Columna 8\n"
     ]
    }
   ],
   "source": [
    "filas = doc.tables[0].rows\n",
    "columnas = doc.tables[0].columns\n",
    "\n",
    "for k in range(len(doc.tables)):\n",
    "    for i in doc.tables:\n",
    "        if len(i.columns) == 13:\n",
    "            print ('Tabla1: Fila {}, Columna {}' .format(len(i.rows),len(i.columns)))\n",
    "        else:\n",
    "            print ('Tabla2: Fila {}, Columna {}' .format(len(i.rows),len(i.columns)))"
   ]
  },
  {
   "cell_type": "code",
   "execution_count": 155,
   "metadata": {},
   "outputs": [
    {
     "data": {
      "text/html": [
       "<div>\n",
       "<style scoped>\n",
       "    .dataframe tbody tr th:only-of-type {\n",
       "        vertical-align: middle;\n",
       "    }\n",
       "\n",
       "    .dataframe tbody tr th {\n",
       "        vertical-align: top;\n",
       "    }\n",
       "\n",
       "    .dataframe thead th {\n",
       "        text-align: right;\n",
       "    }\n",
       "</style>\n",
       "<table border=\"1\" class=\"dataframe\">\n",
       "  <thead>\n",
       "    <tr style=\"text-align: right;\">\n",
       "      <th></th>\n",
       "      <th>Items</th>\n",
       "    </tr>\n",
       "  </thead>\n",
       "  <tbody>\n",
       "    <tr>\n",
       "      <th>0</th>\n",
       "      <td>Análisis petrográfico (rocas ígneas)</td>\n",
       "    </tr>\n",
       "    <tr>\n",
       "      <th>1</th>\n",
       "      <td>Clasificación: Granito porfiroideo</td>\n",
       "    </tr>\n",
       "    <tr>\n",
       "      <th>2</th>\n",
       "      <td>IGM:</td>\n",
       "    </tr>\n",
       "    <tr>\n",
       "      <th>3</th>\n",
       "      <td>No. De campo: BC004R</td>\n",
       "    </tr>\n",
       "    <tr>\n",
       "      <th>4</th>\n",
       "      <td>No. De hoja:</td>\n",
       "    </tr>\n",
       "    <tr>\n",
       "      <th>5</th>\n",
       "      <td>Nombre de campo:\\nCuarzodiorita hornbléndico -...</td>\n",
       "    </tr>\n",
       "    <tr>\n",
       "      <th>6</th>\n",
       "      <td>Mineralizada: Si</td>\n",
       "    </tr>\n",
       "    <tr>\n",
       "      <th>7</th>\n",
       "      <td>Muestras similares:\\n\\n1.\\n2.\\n3.\\n4.\\n5.</td>\n",
       "    </tr>\n",
       "    <tr>\n",
       "      <th>8</th>\n",
       "      <td>Lugar: Río Jarapetó</td>\n",
       "    </tr>\n",
       "    <tr>\n",
       "      <th>9</th>\n",
       "      <td>No. De plancha: 113-II-B</td>\n",
       "    </tr>\n",
       "    <tr>\n",
       "      <th>10</th>\n",
       "      <td>Coordenadas: X: 1047041.265</td>\n",
       "    </tr>\n",
       "    <tr>\n",
       "      <th>11</th>\n",
       "      <td>Y: 1275077.351</td>\n",
       "    </tr>\n",
       "    <tr>\n",
       "      <th>12</th>\n",
       "      <td>Analizador: René Lugo Primelles</td>\n",
       "    </tr>\n",
       "    <tr>\n",
       "      <th>13</th>\n",
       "      <td>Fecha:</td>\n",
       "    </tr>\n",
       "    <tr>\n",
       "      <th>14</th>\n",
       "      <td>Fotos: Si</td>\n",
       "    </tr>\n",
       "    <tr>\n",
       "      <th>15</th>\n",
       "      <td>Análisis:</td>\n",
       "    </tr>\n",
       "    <tr>\n",
       "      <th>16</th>\n",
       "      <td>Descripción macroscópica: cuarzodiorita hornbl...</td>\n",
       "    </tr>\n",
       "    <tr>\n",
       "      <th>17</th>\n",
       "      <td>Alter. X</td>\n",
       "    </tr>\n",
       "    <tr>\n",
       "      <th>18</th>\n",
       "      <td>Muy Alt.</td>\n",
       "    </tr>\n",
       "    <tr>\n",
       "      <th>19</th>\n",
       "      <td>Propil. X</td>\n",
       "    </tr>\n",
       "    <tr>\n",
       "      <th>20</th>\n",
       "      <td>Clorit.</td>\n",
       "    </tr>\n",
       "    <tr>\n",
       "      <th>21</th>\n",
       "      <td>Epid.</td>\n",
       "    </tr>\n",
       "    <tr>\n",
       "      <th>22</th>\n",
       "      <td>Silic.</td>\n",
       "    </tr>\n",
       "    <tr>\n",
       "      <th>23</th>\n",
       "      <td>Seric. X</td>\n",
       "    </tr>\n",
       "    <tr>\n",
       "      <th>24</th>\n",
       "      <td>Albit.</td>\n",
       "    </tr>\n",
       "    <tr>\n",
       "      <th>25</th>\n",
       "      <td>Argiliz.</td>\n",
       "    </tr>\n",
       "    <tr>\n",
       "      <th>26</th>\n",
       "      <td>Sauss. X</td>\n",
       "    </tr>\n",
       "    <tr>\n",
       "      <th>27</th>\n",
       "      <td>Zeol.</td>\n",
       "    </tr>\n",
       "    <tr>\n",
       "      <th>28</th>\n",
       "      <td>Fresca</td>\n",
       "    </tr>\n",
       "    <tr>\n",
       "      <th>29</th>\n",
       "      <td>Coordenadas en el diagrama de Streckeisen:\\nQ:...</td>\n",
       "    </tr>\n",
       "    <tr>\n",
       "      <th>30</th>\n",
       "      <td>Diagrama de Floyd – Winchester SiO2:\\t%</td>\n",
       "    </tr>\n",
       "    <tr>\n",
       "      <th>31</th>\n",
       "      <td>Zr / TiO2:\\t%</td>\n",
       "    </tr>\n",
       "    <tr>\n",
       "      <th>32</th>\n",
       "      <td>Composición mineralógica: Minerales mayores: f...</td>\n",
       "    </tr>\n",
       "    <tr>\n",
       "      <th>33</th>\n",
       "      <td>Fenocristales:  15-20\\t%</td>\n",
       "    </tr>\n",
       "    <tr>\n",
       "      <th>34</th>\n",
       "      <td>Matriz:\\t80-85\\t%</td>\n",
       "    </tr>\n",
       "    <tr>\n",
       "      <th>35</th>\n",
       "      <td>Estructura:\\t\\tHolocristalina\\tX\\tHipocristali...</td>\n",
       "    </tr>\n",
       "    <tr>\n",
       "      <th>36</th>\n",
       "      <td>Textura:\\t\\t\\t\\tIdiomórfica\\t\\tHipidiomórfica\\...</td>\n",
       "    </tr>\n",
       "    <tr>\n",
       "      <th>37</th>\n",
       "      <td>Textura microscópica de los granos: Mosaico  X...</td>\n",
       "    </tr>\n",
       "    <tr>\n",
       "      <th>38</th>\n",
       "      <td>Maclas: polisintéticas, Carlsbad\\tZonación\\tX\\...</td>\n",
       "    </tr>\n",
       "    <tr>\n",
       "      <th>39</th>\n",
       "      <td>Descripción microscópica (corta): Los ferromag...</td>\n",
       "    </tr>\n",
       "  </tbody>\n",
       "</table>\n",
       "</div>"
      ],
      "text/plain": [
       "                                                Items\n",
       "0                Análisis petrográfico (rocas ígneas)\n",
       "1                  Clasificación: Granito porfiroideo\n",
       "2                                                IGM:\n",
       "3                                No. De campo: BC004R\n",
       "4                                        No. De hoja:\n",
       "5   Nombre de campo:\\nCuarzodiorita hornbléndico -...\n",
       "6                                    Mineralizada: Si\n",
       "7           Muestras similares:\\n\\n1.\\n2.\\n3.\\n4.\\n5.\n",
       "8                                 Lugar: Río Jarapetó\n",
       "9                            No. De plancha: 113-II-B\n",
       "10                        Coordenadas: X: 1047041.265\n",
       "11                                     Y: 1275077.351\n",
       "12                    Analizador: René Lugo Primelles\n",
       "13                                             Fecha:\n",
       "14                                          Fotos: Si\n",
       "15                                          Análisis:\n",
       "16  Descripción macroscópica: cuarzodiorita hornbl...\n",
       "17                                           Alter. X\n",
       "18                                           Muy Alt.\n",
       "19                                          Propil. X\n",
       "20                                            Clorit.\n",
       "21                                              Epid.\n",
       "22                                             Silic.\n",
       "23                                           Seric. X\n",
       "24                                             Albit.\n",
       "25                                           Argiliz.\n",
       "26                                           Sauss. X\n",
       "27                                              Zeol.\n",
       "28                                             Fresca\n",
       "29  Coordenadas en el diagrama de Streckeisen:\\nQ:...\n",
       "30            Diagrama de Floyd – Winchester SiO2:\\t%\n",
       "31                                      Zr / TiO2:\\t%\n",
       "32  Composición mineralógica: Minerales mayores: f...\n",
       "33                           Fenocristales:  15-20\\t%\n",
       "34                                  Matriz:\\t80-85\\t%\n",
       "35  Estructura:\\t\\tHolocristalina\\tX\\tHipocristali...\n",
       "36  Textura:\\t\\t\\t\\tIdiomórfica\\t\\tHipidiomórfica\\...\n",
       "37  Textura microscópica de los granos: Mosaico  X...\n",
       "38  Maclas: polisintéticas, Carlsbad\\tZonación\\tX\\...\n",
       "39  Descripción microscópica (corta): Los ferromag..."
      ]
     },
     "execution_count": 155,
     "metadata": {},
     "output_type": "execute_result"
    }
   ],
   "source": [
    "datos = []\n",
    "for i in range(len(doc.tables[0].rows)):\n",
    "    for j in range(len(doc.tables[0].columns)):\n",
    "        temp = doc.tables[0].cell(i,j).text\n",
    "        #print(i, j, ': ', temp)\n",
    "        datos.append(temp)\n",
    "datos2 = pd.DataFrame(datos, columns=['Items'])\n",
    "# Extraer datos únicos\n",
    "salida = pd.DataFrame(datos2['Items'].unique(), columns=['Items'])\n",
    "salida"
   ]
  },
  {
   "cell_type": "code",
   "execution_count": null,
   "metadata": {},
   "outputs": [],
   "source": [
    "def extraer_datos(tabla, filas, columnas):\n",
    "    datos = []\n",
    "    for i in range(filas):\n",
    "        for j in range(columnas):\n",
    "            datos.append(tabla.cell(i,j).text)\n",
    "    datos2 = pd.DataFrame(datos, columns=['Items'])\n",
    "    # Extraer datos únicos\n",
    "    salida = pd.DataFrame(datos2['Items'].unique(), columns=['Items'])\n",
    "    return(salida)"
   ]
  },
  {
   "cell_type": "code",
   "execution_count": 136,
   "metadata": {},
   "outputs": [],
   "source": []
  }
 ],
 "metadata": {
  "kernelspec": {
   "display_name": "Python 3",
   "language": "python",
   "name": "python3"
  },
  "language_info": {
   "codemirror_mode": {
    "name": "ipython",
    "version": 3
   },
   "file_extension": ".py",
   "mimetype": "text/x-python",
   "name": "python",
   "nbconvert_exporter": "python",
   "pygments_lexer": "ipython3",
   "version": "3.6.8"
  }
 },
 "nbformat": 4,
 "nbformat_minor": 2
}
